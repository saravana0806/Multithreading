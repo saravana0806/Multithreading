{
 "cells": [
  {
   "cell_type": "code",
   "execution_count": null,
   "id": "1e91511f-c89b-4bdd-87be-1b685da40775",
   "metadata": {},
   "outputs": [],
   "source": [
    "# Multithreading"
   ]
  },
  {
   "cell_type": "code",
   "execution_count": 3,
   "id": "53e4fca7-de64-47c5-9c99-5df311e2894c",
   "metadata": {},
   "outputs": [
    {
     "name": "stdout",
     "output_type": "stream",
     "text": [
      "Thread Thread-1 - Printing Number: 1Thread Thread-2 - Printing Letter: A\n",
      "\n",
      "Thread Thread-2 - Printing Letter: BThread Thread-1 - Printing Number: 2\n",
      "\n",
      "Thread Thread-1 - Printing Number: 3\n",
      "Thread Thread-2 - Printing Letter: C\n",
      "Thread Thread-2 - Printing Letter: DThread Thread-1 - Printing Number: 4\n",
      "\n",
      "Thread Thread-1 - Printing Number: 5\n",
      "Thread Thread-2 - Printing Letter: E\n",
      "Both threads have finished.\n"
     ]
    }
   ],
   "source": [
    "import threading\n",
    "import time\n",
    "\n",
    "def print_numbers():\n",
    "    for i in range(1, 6):\n",
    "        time.sleep(1)  # Simulate some work\n",
    "        print(f\"Thread {threading.current_thread().name} - Printing Number: {i}\")\n",
    "\n",
    "def print_letters():\n",
    "    for letter in 'ABCDE':\n",
    "        time.sleep(1)  # Simulate some work\n",
    "        print(f\"Thread {threading.current_thread().name} - Printing Letter: {letter}\")\n",
    "\n",
    "thread1 = threading.Thread(target=print_numbers, name=\"Thread-1\")\n",
    "thread2 = threading.Thread(target=print_letters, name=\"Thread-2\")\n",
    "\n",
    "thread1.start()\n",
    "thread2.start()\n",
    "\n",
    "thread1.join()\n",
    "thread2.join()\n",
    "\n",
    "print(\"Both threads have finished.\")"
   ]
  },
  {
   "cell_type": "code",
   "execution_count": null,
   "id": "5411dad2-8328-4515-af1a-2fd148ec58e6",
   "metadata": {},
   "outputs": [],
   "source": []
  },
  {
   "cell_type": "code",
   "execution_count": null,
   "id": "72c21d8b-5ee6-483d-95e6-668a3df4afdb",
   "metadata": {},
   "outputs": [],
   "source": [
    "import threading\n",
    "import time\n",
    "\n",
    "counter_without_lock = 0\n",
    "\n",
    "def increment_without_lock():\n",
    "    global counter_without_lock\n",
    "    for _ in range(1000000):\n",
    "        counter_without_lock += 1\n",
    "\n",
    "def decrement_without_lock():\n",
    "    global counter_without_lock\n",
    "    for _ in range(10000):\n",
    "        counter_without_lock -= 1\n",
    "\n",
    "thread_increment_without_lock = threading.Thread(target=increment_without_lock)\n",
    "thread_decrement_without_lock = threading.Thread(target=decrement_without_lock)\n",
    "\n",
    "thread_increment_without_lock.start()\n",
    "thread_decrement_without_lock.start()\n",
    "\n",
    "thread_increment_without_lock.join()\n",
    "thread_decrement_without_lock.join()\n",
    "\n",
    "print(\"Counter without synchronization:\", counter_without_lock)"
   ]
  },
  {
   "cell_type": "code",
   "execution_count": null,
   "id": "d2a7f5c2-6a09-4d8e-9ee1-9db82cdfa2ab",
   "metadata": {},
   "outputs": [],
   "source": []
  },
  {
   "cell_type": "code",
   "execution_count": null,
   "id": "a5d43256-2a95-47ab-8727-992a7a650fdb",
   "metadata": {},
   "outputs": [],
   "source": []
  },
  {
   "cell_type": "code",
   "execution_count": null,
   "id": "bf7799fd-54e8-4ca9-9a45-d92f5f2e975b",
   "metadata": {},
   "outputs": [],
   "source": [
    "import threading\n",
    "\n",
    "counter_with_lock = 0\n",
    "counter_lock = threading.Lock()\n",
    "\n",
    "def increment_with_lock():\n",
    "    global counter_with_lock\n",
    "    for _ in range(1000000):\n",
    "        counter_lock.acquire()\n",
    "        try:\n",
    "            counter_with_lock += 1\n",
    "        finally:\n",
    "            counter_lock.release()\n",
    "\n",
    "def decrement_with_lock():\n",
    "    global counter_with_lock\n",
    "    for _ in range(1000):\n",
    "        counter_lock.acquire()\n",
    "        try:\n",
    "            counter_with_lock -= 1\n",
    "        finally:\n",
    "            counter_lock.release()\n",
    "\n",
    "thread_increment_with_lock = threading.Thread(target=increment_with_lock)\n",
    "thread_decrement_with_lock = threading.Thread(target=decrement_with_lock)\n",
    "\n",
    "thread_increment_with_lock.start()\n",
    "thread_decrement_with_lock.start()\n",
    "\n",
    "thread_increment_with_lock.join()\n",
    "thread_decrement_with_lock.join()\n",
    "\n",
    "print(\"Counter with synchronization:\", counter_with_lock)"
   ]
  },
  {
   "cell_type": "code",
   "execution_count": null,
   "id": "c4052818-d428-457a-a03b-84e1ff89d1a8",
   "metadata": {},
   "outputs": [],
   "source": [
    "import threading\n",
    "\n",
    "def worker(event):\n",
    "    print(\"waiting for event.\")\n",
    "    event.wait()\n",
    "    print(\"received event and is doing some work.\")\n",
    "\n",
    "my_event = threading.Event()\n",
    "my_thread = threading.Thread(target=worker, args=(my_event,))\n",
    "\n",
    "my_thread.start()\n",
    "print()\n",
    "print()\n",
    "print(\"Main thread is doing some work.\")\n",
    "my_event.set()  # Signal the worker thread\n",
    "my_thread.join()"
   ]
  },
  {
   "cell_type": "code",
   "execution_count": null,
   "id": "9cf83f26-1c0f-4a88-9653-667db8b407e5",
   "metadata": {},
   "outputs": [],
   "source": []
  },
  {
   "cell_type": "code",
   "execution_count": null,
   "id": "a13f6326-03d0-4077-b150-bb5906ec3b65",
   "metadata": {},
   "outputs": [],
   "source": [
    "import threading\n",
    "import time\n",
    "\n",
    "def my_function():\n",
    "    print(\"Thread started.\")\n",
    "    time.sleep(6)\n",
    "    print(\"Thread finished.\")\n",
    "\n",
    "my_thread = threading.Thread(target=my_function)\n",
    "\n",
    "my_thread.start()\n",
    "\n",
    "while my_thread.is_alive():\n",
    "    print(\"Thread is still alive...\")\n",
    "    time.sleep(2)\n",
    "\n",
    "#print(\"Thread has finished.\")"
   ]
  },
  {
   "cell_type": "code",
   "execution_count": null,
   "id": "c8b6477c-6e15-4a32-8731-5a10451aaf9f",
   "metadata": {},
   "outputs": [],
   "source": [
    "# Theading.lock\n",
    "# Threding.Event\n",
    "# Theading.Conditions"
   ]
  },
  {
   "cell_type": "code",
   "execution_count": null,
   "id": "d108020f-4997-4e30-9475-098710a1723a",
   "metadata": {},
   "outputs": [],
   "source": [
    "import threading\n",
    "\n",
    "shared_resource = []\n",
    "condition = threading.Condition()\n",
    "\n",
    "def producer():\n",
    "    with condition:\n",
    "        shared_resource.append([\"data\",\"input\"])\n",
    "        condition.notify()\n",
    "\n",
    "def consumer():\n",
    "    with condition:\n",
    "        while not shared_resource:\n",
    "            condition.wait()\n",
    "        data = shared_resource.pop(0)\n",
    "        print(\"Update Consumed:\", data)\n",
    "\n",
    "my_thread1 = threading.Thread(target=producer)\n",
    "my_thread2 = threading.Thread(target=consumer)\n",
    "\n",
    "my_thread1.start()\n",
    "my_thread2.start()\n"
   ]
  },
  {
   "cell_type": "code",
   "execution_count": null,
   "id": "e98ba915-22ce-4275-a7ed-83732af4c708",
   "metadata": {},
   "outputs": [],
   "source": []
  },
  {
   "cell_type": "code",
   "execution_count": null,
   "id": "be596fe5-c923-40f2-8ca7-3ae7c1184a1a",
   "metadata": {},
   "outputs": [],
   "source": [
    "import threading\n",
    "import time\n",
    "\n",
    "def worker():\n",
    "    time.sleep(2)\n",
    "    print(\"Thread finished.\")\n",
    "\n",
    "thread1 = threading.Thread(target=worker)\n",
    "thread2 = threading.Thread(target=worker)\n",
    "thread3 = threading.Thread(target=worker)\n",
    "\n",
    "thread1.start()\n",
    "thread2.start()\n",
    "thread3.start()\n",
    "\n",
    "print(\"Active Thread Count:\", threading.active_count())\n",
    "\n",
    "thread1.join()\n",
    "thread2.join()\n",
    "thread3.join()\n",
    "\n",
    "print(\"Active Thread Count after threads have finished:\", threading.active_count())"
   ]
  },
  {
   "cell_type": "code",
   "execution_count": null,
   "id": "bb29f7f3-9644-4fe0-bf62-95f87e45f29b",
   "metadata": {},
   "outputs": [],
   "source": []
  },
  {
   "cell_type": "code",
   "execution_count": null,
   "id": "9f4d09d1-ddf1-4d33-b787-c363f0440007",
   "metadata": {},
   "outputs": [],
   "source": []
  },
  {
   "cell_type": "code",
   "execution_count": null,
   "id": "559aca4e-670c-4814-b970-5c6d2b22d1de",
   "metadata": {},
   "outputs": [],
   "source": [
    "import threading\n",
    "\n",
    "def print_current_thread():\n",
    "    current_thread = threading.current_thread()\n",
    "    print(\"Current Thread Name:\", current_thread.name)\n",
    "\n",
    "print_current_thread()\n",
    "\n",
    "def workers():\n",
    "    print_current_thread()\n",
    "\n",
    "my_thread = threading.Thread(target=workers)\n",
    "my_thread.start()\n",
    "my_thread.join()\n",
    "\n",
    "print_current_thread()"
   ]
  },
  {
   "cell_type": "code",
   "execution_count": null,
   "id": "48928014-82a0-41e4-9429-31a839e8aa08",
   "metadata": {},
   "outputs": [],
   "source": []
  },
  {
   "cell_type": "code",
   "execution_count": null,
   "id": "0e71bd49-0693-419d-b5a2-f83c0e0873de",
   "metadata": {},
   "outputs": [],
   "source": []
  },
  {
   "cell_type": "code",
   "execution_count": null,
   "id": "d23ff86d-79f6-4a5d-8c98-65ff0663de45",
   "metadata": {},
   "outputs": [],
   "source": [
    "import threading\n",
    "\n",
    "def print_current_thread():\n",
    "    current_thread = threading.current_thread()\n",
    "    print(\"Current Thread Name:\", current_thread.name)\n",
    "\n",
    "print_current_thread()\n",
    "\n",
    "def workers():\n",
    "    print_current_thread()\n",
    "\n",
    "thread1 = threading.Thread(target=workers)\n",
    "thread2 = threading.Thread(target=workers)\n",
    "\n",
    "thread1.start()\n",
    "thread2.start()\n",
    "\n",
    "thread1.join()\n",
    "thread2.join()\n",
    "\n",
    "print_current_thread()"
   ]
  },
  {
   "cell_type": "code",
   "execution_count": null,
   "id": "e1addfca-658e-4291-9673-9deb9ed20b60",
   "metadata": {},
   "outputs": [],
   "source": []
  },
  {
   "cell_type": "code",
   "execution_count": null,
   "id": "e9d7982e-03b1-4b6c-a931-76292390eba4",
   "metadata": {},
   "outputs": [],
   "source": [
    "import threading\n",
    "import time\n",
    "\n",
    "def daemon_worker():\n",
    "    while True:\n",
    "        print(\"Daemon thread is running.\")\n",
    "        time.sleep(1)\n",
    "\n",
    "def non_daemon_worker():\n",
    "    time.sleep(3)\n",
    "    print(\"Non-daemon thread is running.\")\n",
    "\n",
    "daemon_thread = threading.Thread(target=daemon_worker)\n",
    "non_daemon_thread = threading.Thread(target=non_daemon_worker)\n",
    "\n",
    "daemon_thread.setDaemon(True)\n",
    "\n",
    "daemon_thread.start()\n",
    "non_daemon_thread.start()\n",
    "\n",
    "print(\"Main thread is running.\")\n",
    "\n",
    "non_daemon_thread.join()\n",
    "\n",
    "print(\"Main thread finished. Daemon thread may not have completed.\")"
   ]
  },
  {
   "cell_type": "code",
   "execution_count": null,
   "id": "7a764378-0e76-439c-88b0-a48fe0f21cfe",
   "metadata": {},
   "outputs": [],
   "source": []
  },
  {
   "cell_type": "code",
   "execution_count": 2,
   "id": "0994822f-4ce2-4d7b-a125-1f6d5dac1f7a",
   "metadata": {},
   "outputs": [
    {
     "name": "stdout",
     "output_type": "stream",
     "text": [
      "0,apple\n",
      "1,banana\n",
      "2,orange\n"
     ]
    }
   ],
   "source": [
    "my_list = ['apple', 'banana', 'orange']\n",
    "\n",
    "for index, value in enumerate(my_list):\n",
    "    print(f\"{index},{value}\")"
   ]
  }
 ],
 "metadata": {
  "kernelspec": {
   "display_name": "Python 3 (ipykernel)",
   "language": "python",
   "name": "python3"
  },
  "language_info": {
   "codemirror_mode": {
    "name": "ipython",
    "version": 3
   },
   "file_extension": ".py",
   "mimetype": "text/x-python",
   "name": "python",
   "nbconvert_exporter": "python",
   "pygments_lexer": "ipython3",
   "version": "3.11.5"
  }
 },
 "nbformat": 4,
 "nbformat_minor": 5
}
